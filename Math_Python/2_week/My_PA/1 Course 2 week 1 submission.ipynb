{
 "cells": [
  {
   "cell_type": "code",
   "execution_count": 2,
   "metadata": {
    "collapsed": false
   },
   "outputs": [],
   "source": [
    "cads = open('sentences.txt', 'r')\n",
    "data_list = cads.readlines()"
   ]
  },
  {
   "cell_type": "code",
   "execution_count": 3,
   "metadata": {
    "collapsed": false
   },
   "outputs": [
    {
     "name": "stdout",
     "output_type": "stream",
     "text": [
      "in comparison to dogs, cats have not undergone major changes during the domestication process.\n",
      "\n"
     ]
    }
   ],
   "source": [
    "print data_list[0].lower()"
   ]
  },
  {
   "cell_type": "code",
   "execution_count": 4,
   "metadata": {
    "collapsed": false
   },
   "outputs": [],
   "source": [
    "for i in range(len(data_list)):\n",
    "    data_list[i] = data_list[i].lower()"
   ]
  },
  {
   "cell_type": "code",
   "execution_count": 5,
   "metadata": {
    "collapsed": false
   },
   "outputs": [
    {
     "data": {
      "text/plain": [
       "22"
      ]
     },
     "execution_count": 5,
     "metadata": {},
     "output_type": "execute_result"
    }
   ],
   "source": [
    "len(data_list)"
   ]
  },
  {
   "cell_type": "code",
   "execution_count": 6,
   "metadata": {
    "collapsed": false
   },
   "outputs": [],
   "source": [
    "import re"
   ]
  },
  {
   "cell_type": "code",
   "execution_count": 7,
   "metadata": {
    "collapsed": false
   },
   "outputs": [],
   "source": [
    "for i in range(len(data_list)):\n",
    "    x = re.split('[^a-z]', data_list[i])\n",
    "    while '' in x:\n",
    "        x.remove('')\n",
    "    data_list[i] = x"
   ]
  },
  {
   "cell_type": "code",
   "execution_count": 27,
   "metadata": {
    "collapsed": true
   },
   "outputs": [
    {
     "name": "stdout",
     "output_type": "stream",
     "text": [
      "<type 'list'>\n"
     ]
    },
    {
     "ename": "TypeError",
     "evalue": "argument of type 'NoneType' is not iterable",
     "output_type": "error",
     "traceback": [
      "\u001b[1;31m---------------------------------------------------------------------------\u001b[0m",
      "\u001b[1;31mTypeError\u001b[0m                                 Traceback (most recent call last)",
      "\u001b[1;32m<ipython-input-27-0b282360f2c4>\u001b[0m in \u001b[0;36m<module>\u001b[1;34m()\u001b[0m\n\u001b[0;32m      5\u001b[0m \u001b[1;32mfor\u001b[0m \u001b[0mi\u001b[0m \u001b[1;32min\u001b[0m \u001b[0mrange\u001b[0m\u001b[1;33m(\u001b[0m\u001b[0mlen\u001b[0m\u001b[1;33m(\u001b[0m\u001b[0mdata_list\u001b[0m\u001b[1;33m)\u001b[0m\u001b[1;33m)\u001b[0m\u001b[1;33m:\u001b[0m\u001b[1;33m\u001b[0m\u001b[0m\n\u001b[0;32m      6\u001b[0m         \u001b[1;32mfor\u001b[0m \u001b[0mword\u001b[0m \u001b[1;32min\u001b[0m \u001b[0mdata_list\u001b[0m\u001b[1;33m[\u001b[0m\u001b[0mi\u001b[0m\u001b[1;33m]\u001b[0m\u001b[1;33m:\u001b[0m\u001b[1;33m\u001b[0m\u001b[0m\n\u001b[1;32m----> 7\u001b[1;33m             \u001b[1;32mif\u001b[0m \u001b[0mword\u001b[0m \u001b[1;32min\u001b[0m \u001b[0mproverka\u001b[0m\u001b[1;33m:\u001b[0m\u001b[1;33m\u001b[0m\u001b[0m\n\u001b[0m\u001b[0;32m      8\u001b[0m                 \u001b[1;32mcontinue\u001b[0m\u001b[1;33m\u001b[0m\u001b[0m\n\u001b[0;32m      9\u001b[0m             \u001b[1;32melse\u001b[0m\u001b[1;33m:\u001b[0m\u001b[1;33m\u001b[0m\u001b[0m\n",
      "\u001b[1;31mTypeError\u001b[0m: argument of type 'NoneType' is not iterable"
     ]
    }
   ],
   "source": [
    "dic = {}\n",
    "lis = []\n",
    "print type(lis)\n",
    "k = 0\n",
    "for i in range(len(data_list)):\n",
    "        for word in data_list[i]:\n",
    "            if word in lis:\n",
    "                continue\n",
    "            else:\n",
    "                dic[word] = k\n",
    "                k += 1\n",
    "                lis = lis.append(word)"
   ]
  },
  {
   "cell_type": "code",
   "execution_count": 272,
   "metadata": {
    "collapsed": false
   },
   "outputs": [
    {
     "data": {
      "text/plain": [
       "NoneType"
      ]
     },
     "execution_count": 272,
     "metadata": {},
     "output_type": "execute_result"
    }
   ],
   "source": [
    "type(lis)"
   ]
  },
  {
   "cell_type": "code",
   "execution_count": 29,
   "metadata": {
    "collapsed": false
   },
   "outputs": [],
   "source": [
    "outlst = [' '.join([str(c) for c in lst]) for lst in data_list]"
   ]
  },
  {
   "cell_type": "code",
   "execution_count": 208,
   "metadata": {
    "collapsed": true
   },
   "outputs": [],
   "source": [
    "se = set(outlst)"
   ]
  },
  {
   "cell_type": "code",
   "execution_count": 209,
   "metadata": {
    "collapsed": true
   },
   "outputs": [
    {
     "data": {
      "text/plain": [
       "{'a common interactive use of cat for a single file is to output the content of a file to standard output',\n",
       " 'according to apple leopard contains over changes and enhancements over its predecessor mac os x tiger',\n",
       " 'apple has released a small patch for the three most recent versions of safari running on os x yosemite mavericks and mountain lion',\n",
       " 'as cat simply catenates streams of bytes it can be also used to concatenate binary files where it will just concatenate sequence of bytes',\n",
       " 'as of mid some apple computers have firmware factory installed which will no longer allow installation of mac os x leopard',\n",
       " 'cat command is one of the basic commands that you learned when you started in the unix linux world',\n",
       " 'cat with one named file is safer where human error is a concern one wrong use of the default redirection symbol instead of often adjacent on keyboards may permanently delete the file you were just needing to read',\n",
       " 'cats can hear sounds too faint or too high in frequency for human ears such as those made by mice and other small animals',\n",
       " 'domestic cats are similar in size to the other members of the genus felis typically weighing between and kg and lb',\n",
       " 'however if the output is piped or redirected cat is unnecessary',\n",
       " 'in comparison to dogs cats have not undergone major changes during the domestication process',\n",
       " 'in one people deliberately tamed cats in a process of artificial selection as they were useful predators of vermin',\n",
       " 'in terms of legibility a sequence of commands starting with cat and connected by pipes has a clear left to right flow of information',\n",
       " 'leopard was released on october as the successor of tiger version and is available in two editions',\n",
       " 'mac os x mountain lion installs in place so you won t need to create a separate disk or run the installation off an external drive',\n",
       " 'os x mountain lion was released on july for purchase and download through apple s mac app store as part of a switch to releasing os x versions online and every year',\n",
       " 'since apple moved to using intel processors in their computers the osx community has developed and now also allows mac os x tiger and later releases to be installed on non apple x based computers',\n",
       " 'the domesticated cat and its closest wild ancestor are both diploid organisms that possess chromosomes and roughly genes',\n",
       " 'the fifth major update to mac os x leopard contains such a mountain of features more than by apple s count',\n",
       " 'the mountain lion release marks the second time apple has offered an incremental upgrade rather than releasing a new cat entirely',\n",
       " 'using cat command the lines received from stdin can be redirected to a new file using redirection symbols',\n",
       " 'when you type simply cat command without any arguments it just receives the stdin content and displays it in the stdout'}"
      ]
     },
     "execution_count": 209,
     "metadata": {},
     "output_type": "execute_result"
    }
   ],
   "source": [
    "se"
   ]
  },
  {
   "cell_type": "code",
   "execution_count": 13,
   "metadata": {
    "collapsed": false
   },
   "outputs": [
    {
     "ename": "NameError",
     "evalue": "name 'outlst' is not defined",
     "output_type": "error",
     "traceback": [
      "\u001b[1;31m---------------------------------------------------------------------------\u001b[0m",
      "\u001b[1;31mNameError\u001b[0m                                 Traceback (most recent call last)",
      "\u001b[1;32m<ipython-input-13-1f8135a6c608>\u001b[0m in \u001b[0;36m<module>\u001b[1;34m()\u001b[0m\n\u001b[1;32m----> 1\u001b[1;33m \u001b[1;32mfor\u001b[0m \u001b[0mi\u001b[0m \u001b[1;32min\u001b[0m \u001b[0mrange\u001b[0m\u001b[1;33m(\u001b[0m\u001b[0mlen\u001b[0m\u001b[1;33m(\u001b[0m\u001b[0moutlst\u001b[0m\u001b[1;33m)\u001b[0m\u001b[1;33m)\u001b[0m\u001b[1;33m:\u001b[0m\u001b[1;33m\u001b[0m\u001b[0m\n\u001b[0m\u001b[0;32m      2\u001b[0m         \u001b[1;32mfor\u001b[0m \u001b[0mword\u001b[0m \u001b[1;32min\u001b[0m \u001b[0moutlst\u001b[0m\u001b[1;33m[\u001b[0m\u001b[0mi\u001b[0m\u001b[1;33m]\u001b[0m\u001b[1;33m:\u001b[0m\u001b[1;33m\u001b[0m\u001b[0m\n\u001b[0;32m      3\u001b[0m             \u001b[0mdic\u001b[0m \u001b[1;33m=\u001b[0m \u001b[0mdic\u001b[0m\u001b[1;33m.\u001b[0m\u001b[0madd\u001b[0m\u001b[1;33m(\u001b[0m\u001b[0mword\u001b[0m\u001b[1;33m)\u001b[0m\u001b[1;33m\u001b[0m\u001b[0m\n",
      "\u001b[1;31mNameError\u001b[0m: name 'outlst' is not defined"
     ]
    }
   ],
   "source": [
    "for i in range(len(outlst)):\n",
    "        for word in outlst[i]:\n",
    "            dic = dic.add(word)"
   ]
  },
  {
   "cell_type": "code",
   "execution_count": 14,
   "metadata": {
    "collapsed": false
   },
   "outputs": [],
   "source": [
    "words=[]\n",
    "dict={}\n",
    "for sentence in data_list:\n",
    "    for word in sentence:\n",
    "        words.append(word)\n",
    "\n",
    "uniq_words=set(words)\n",
    "for num, word in enumerate(uniq_words):\n",
    "    dict[word]=num"
   ]
  },
  {
   "cell_type": "code",
   "execution_count": 15,
   "metadata": {
    "collapsed": true
   },
   "outputs": [
    {
     "data": {
      "text/plain": [
       "{'a': 232,\n",
       " 'according': 98,\n",
       " 'adjacent': 211,\n",
       " 'allow': 248,\n",
       " 'allows': 97,\n",
       " 'also': 208,\n",
       " 'an': 188,\n",
       " 'ancestor': 215,\n",
       " 'and': 177,\n",
       " 'animals': 164,\n",
       " 'any': 196,\n",
       " 'app': 114,\n",
       " 'apple': 113,\n",
       " 'are': 58,\n",
       " 'arguments': 210,\n",
       " 'artificial': 68,\n",
       " 'as': 190,\n",
       " 'available': 51,\n",
       " 'based': 88,\n",
       " 'basic': 138,\n",
       " 'be': 79,\n",
       " 'between': 72,\n",
       " 'binary': 199,\n",
       " 'both': 91,\n",
       " 'by': 90,\n",
       " 'bytes': 42,\n",
       " 'can': 172,\n",
       " 'cat': 170,\n",
       " 'catenates': 106,\n",
       " 'cats': 136,\n",
       " 'changes': 107,\n",
       " 'chromosomes': 218,\n",
       " 'clear': 239,\n",
       " 'closest': 219,\n",
       " 'command': 246,\n",
       " 'commands': 92,\n",
       " 'common': 77,\n",
       " 'community': 115,\n",
       " 'comparison': 230,\n",
       " 'computers': 179,\n",
       " 'concatenate': 78,\n",
       " 'concern': 62,\n",
       " 'connected': 227,\n",
       " 'contains': 148,\n",
       " 'content': 69,\n",
       " 'count': 162,\n",
       " 'create': 130,\n",
       " 'default': 167,\n",
       " 'delete': 125,\n",
       " 'deliberately': 25,\n",
       " 'developed': 5,\n",
       " 'diploid': 85,\n",
       " 'disk': 15,\n",
       " 'displays': 0,\n",
       " 'dogs': 141,\n",
       " 'domestic': 8,\n",
       " 'domesticated': 195,\n",
       " 'domestication': 197,\n",
       " 'download': 60,\n",
       " 'drive': 22,\n",
       " 'during': 37,\n",
       " 'ears': 50,\n",
       " 'editions': 155,\n",
       " 'enhancements': 127,\n",
       " 'entirely': 48,\n",
       " 'error': 63,\n",
       " 'every': 33,\n",
       " 'external': 154,\n",
       " 'factory': 67,\n",
       " 'faint': 111,\n",
       " 'features': 18,\n",
       " 'felis': 109,\n",
       " 'fifth': 17,\n",
       " 'file': 192,\n",
       " 'files': 144,\n",
       " 'firmware': 205,\n",
       " 'flow': 241,\n",
       " 'for': 64,\n",
       " 'frequency': 57,\n",
       " 'from': 126,\n",
       " 'genes': 81,\n",
       " 'genus': 234,\n",
       " 'has': 27,\n",
       " 'have': 180,\n",
       " 'hear': 153,\n",
       " 'high': 189,\n",
       " 'however': 135,\n",
       " 'human': 13,\n",
       " 'if': 198,\n",
       " 'in': 193,\n",
       " 'incremental': 191,\n",
       " 'information': 220,\n",
       " 'installation': 93,\n",
       " 'installed': 10,\n",
       " 'installs': 94,\n",
       " 'instead': 213,\n",
       " 'intel': 40,\n",
       " 'interactive': 176,\n",
       " 'is': 184,\n",
       " 'it': 187,\n",
       " 'its': 16,\n",
       " 'july': 99,\n",
       " 'just': 4,\n",
       " 'keyboards': 41,\n",
       " 'kg': 235,\n",
       " 'later': 100,\n",
       " 'lb': 21,\n",
       " 'learned': 74,\n",
       " 'left': 253,\n",
       " 'legibility': 203,\n",
       " 'leopard': 223,\n",
       " 'lines': 183,\n",
       " 'linux': 121,\n",
       " 'lion': 56,\n",
       " 'longer': 161,\n",
       " 'mac': 101,\n",
       " 'made': 163,\n",
       " 'major': 110,\n",
       " 'marks': 26,\n",
       " 'mavericks': 165,\n",
       " 'may': 221,\n",
       " 'members': 86,\n",
       " 'mice': 157,\n",
       " 'mid': 207,\n",
       " 'more': 143,\n",
       " 'most': 225,\n",
       " 'mountain': 178,\n",
       " 'moved': 186,\n",
       " 'named': 9,\n",
       " 'need': 194,\n",
       " 'needing': 96,\n",
       " 'new': 73,\n",
       " 'no': 201,\n",
       " 'non': 29,\n",
       " 'not': 36,\n",
       " 'now': 38,\n",
       " 'october': 32,\n",
       " 'of': 95,\n",
       " 'off': 156,\n",
       " 'offered': 216,\n",
       " 'often': 53,\n",
       " 'on': 52,\n",
       " 'one': 116,\n",
       " 'online': 212,\n",
       " 'or': 108,\n",
       " 'organisms': 236,\n",
       " 'os': 34,\n",
       " 'osx': 1,\n",
       " 'other': 209,\n",
       " 'output': 47,\n",
       " 'over': 6,\n",
       " 'part': 152,\n",
       " 'patch': 44,\n",
       " 'people': 131,\n",
       " 'permanently': 139,\n",
       " 'piped': 76,\n",
       " 'pipes': 65,\n",
       " 'place': 247,\n",
       " 'possess': 39,\n",
       " 'predators': 45,\n",
       " 'predecessor': 28,\n",
       " 'process': 182,\n",
       " 'processors': 200,\n",
       " 'purchase': 233,\n",
       " 'rather': 202,\n",
       " 'read': 31,\n",
       " 'received': 185,\n",
       " 'receives': 104,\n",
       " 'recent': 231,\n",
       " 'redirected': 250,\n",
       " 'redirection': 134,\n",
       " 'release': 84,\n",
       " 'released': 151,\n",
       " 'releases': 145,\n",
       " 'releasing': 149,\n",
       " 'right': 119,\n",
       " 'roughly': 242,\n",
       " 'run': 71,\n",
       " 'running': 117,\n",
       " 's': 102,\n",
       " 'safari': 3,\n",
       " 'safer': 89,\n",
       " 'second': 128,\n",
       " 'selection': 2,\n",
       " 'separate': 204,\n",
       " 'sequence': 54,\n",
       " 'similar': 175,\n",
       " 'simply': 120,\n",
       " 'since': 66,\n",
       " 'single': 169,\n",
       " 'size': 123,\n",
       " 'small': 46,\n",
       " 'so': 243,\n",
       " 'some': 55,\n",
       " 'sounds': 122,\n",
       " 'standard': 83,\n",
       " 'started': 147,\n",
       " 'starting': 238,\n",
       " 'stdin': 240,\n",
       " 'stdout': 181,\n",
       " 'store': 142,\n",
       " 'streams': 103,\n",
       " 'successor': 105,\n",
       " 'such': 229,\n",
       " 'switch': 244,\n",
       " 'symbol': 222,\n",
       " 'symbols': 11,\n",
       " 't': 133,\n",
       " 'tamed': 19,\n",
       " 'terms': 61,\n",
       " 'than': 159,\n",
       " 'that': 146,\n",
       " 'the': 251,\n",
       " 'their': 129,\n",
       " 'they': 35,\n",
       " 'those': 160,\n",
       " 'three': 75,\n",
       " 'through': 12,\n",
       " 'tiger': 150,\n",
       " 'time': 249,\n",
       " 'to': 23,\n",
       " 'too': 137,\n",
       " 'two': 132,\n",
       " 'type': 140,\n",
       " 'typically': 252,\n",
       " 'undergone': 124,\n",
       " 'unix': 118,\n",
       " 'unnecessary': 43,\n",
       " 'update': 224,\n",
       " 'upgrade': 20,\n",
       " 'use': 82,\n",
       " 'used': 217,\n",
       " 'useful': 112,\n",
       " 'using': 237,\n",
       " 'vermin': 7,\n",
       " 'version': 70,\n",
       " 'versions': 166,\n",
       " 'was': 168,\n",
       " 'weighing': 80,\n",
       " 'were': 173,\n",
       " 'when': 206,\n",
       " 'where': 49,\n",
       " 'which': 30,\n",
       " 'wild': 174,\n",
       " 'will': 171,\n",
       " 'with': 158,\n",
       " 'without': 245,\n",
       " 'won': 24,\n",
       " 'world': 14,\n",
       " 'wrong': 226,\n",
       " 'x': 87,\n",
       " 'year': 59,\n",
       " 'yosemite': 228,\n",
       " 'you': 214}"
      ]
     },
     "execution_count": 15,
     "metadata": {},
     "output_type": "execute_result"
    }
   ],
   "source": [
    "dict"
   ]
  },
  {
   "cell_type": "code",
   "execution_count": 16,
   "metadata": {
    "collapsed": true
   },
   "outputs": [],
   "source": [
    "import numpy as np"
   ]
  },
  {
   "cell_type": "code",
   "execution_count": 17,
   "metadata": {
    "collapsed": false
   },
   "outputs": [],
   "source": [
    "kol = np.zeros((len(data_list),len(uniq_words)))"
   ]
  },
  {
   "cell_type": "code",
   "execution_count": 23,
   "metadata": {
    "collapsed": false
   },
   "outputs": [
    {
     "name": "stdout",
     "output_type": "stream",
     "text": [
      "254\n"
     ]
    }
   ],
   "source": [
    "print len(uniq_words)"
   ]
  },
  {
   "cell_type": "code",
   "execution_count": 21,
   "metadata": {
    "collapsed": true
   },
   "outputs": [],
   "source": [
    "for num, sent in enumerate(data_list):\n",
    "    for word in sent:\n",
    "        kol[num, dict[word]] += 1"
   ]
  },
  {
   "cell_type": "code",
   "execution_count": 34,
   "metadata": {
    "collapsed": false,
    "scrolled": true
   },
   "outputs": [
    {
     "data": {
      "text/plain": [
       "array([[ 0.,  0.,  0., ...,  1.,  0.,  0.],\n",
       "       [ 0.,  0.,  0., ...,  0.,  0.,  0.],\n",
       "       [ 0.,  0.,  0., ...,  1.,  0.,  0.],\n",
       "       ..., \n",
       "       [ 0.,  0.,  0., ...,  2.,  0.,  0.],\n",
       "       [ 0.,  0.,  0., ...,  1.,  0.,  0.],\n",
       "       [ 0.,  0.,  0., ...,  1.,  0.,  0.]])"
      ]
     },
     "execution_count": 34,
     "metadata": {},
     "output_type": "execute_result"
    }
   ],
   "source": [
    "kol"
   ]
  },
  {
   "cell_type": "code",
   "execution_count": 37,
   "metadata": {
    "collapsed": false
   },
   "outputs": [],
   "source": [
    "from scipy.spatial.distance import cosine "
   ]
  },
  {
   "cell_type": "code",
   "execution_count": 41,
   "metadata": {
    "collapsed": false
   },
   "outputs": [],
   "source": [
    "dist = sp.spatial.distance.cosine(kol[0,],kol[1,])"
   ]
  },
  {
   "cell_type": "code",
   "execution_count": 53,
   "metadata": {
    "collapsed": false
   },
   "outputs": [
    {
     "data": {
      "text/plain": [
       "[0, 1, 2, 3, 4, 5, 6, 7, 8, 9, 10, 11, 12, 13, 14, 15, 16, 17, 18, 19, 20, 21]"
      ]
     },
     "execution_count": 53,
     "metadata": {},
     "output_type": "execute_result"
    }
   ],
   "source": [
    "range(len(data_list))"
   ]
  },
  {
   "cell_type": "code",
   "execution_count": 99,
   "metadata": {
    "collapsed": false
   },
   "outputs": [],
   "source": [
    "maxs = [1,1]\n",
    "k = [0,0]\n",
    "dist = []\n",
    "for i in range(len(data_list)):\n",
    "    dist.append(sp.spatial.distance.cosine(kol[0,],kol[i,]))"
   ]
  },
  {
   "cell_type": "code",
   "execution_count": 9,
   "metadata": {
    "collapsed": false
   },
   "outputs": [
    {
     "ename": "NameError",
     "evalue": "name 'dist' is not defined",
     "output_type": "error",
     "traceback": [
      "\u001b[1;31m---------------------------------------------------------------------------\u001b[0m",
      "\u001b[1;31mNameError\u001b[0m                                 Traceback (most recent call last)",
      "\u001b[1;32m<ipython-input-9-329c17e228c9>\u001b[0m in \u001b[0;36m<module>\u001b[1;34m()\u001b[0m\n\u001b[1;32m----> 1\u001b[1;33m \u001b[0mdist\u001b[0m\u001b[1;33m[\u001b[0m\u001b[1;33m:\u001b[0m\u001b[1;36m5\u001b[0m\u001b[1;33m]\u001b[0m\u001b[1;33m\u001b[0m\u001b[0m\n\u001b[0m",
      "\u001b[1;31mNameError\u001b[0m: name 'dist' is not defined"
     ]
    }
   ],
   "source": [
    "dist[:5]"
   ]
  },
  {
   "cell_type": "code",
   "execution_count": 116,
   "metadata": {
    "collapsed": false
   },
   "outputs": [],
   "source": [
    "for i in range(len(dist)):\n",
    "    if i == 0:\n",
    "        continue\n",
    "    if maxs[0] >= dist[i]:\n",
    "        maxs[0] = dist[i]\n",
    "        k[0] = i\n",
    "    elif maxs[1] >= dist[i] and maxs[0] < dist[i]:\n",
    "        maxs[1] = dist[i]\n",
    "        k[1] = i"
   ]
  },
  {
   "cell_type": "code",
   "execution_count": 117,
   "metadata": {
    "collapsed": false
   },
   "outputs": [
    {
     "data": {
      "text/plain": [
       "[0.7327387580875756, 0.77708871496985887]"
      ]
     },
     "execution_count": 117,
     "metadata": {},
     "output_type": "execute_result"
    }
   ],
   "source": [
    "maxs"
   ]
  },
  {
   "cell_type": "code",
   "execution_count": 118,
   "metadata": {
    "collapsed": false
   },
   "outputs": [
    {
     "data": {
      "text/plain": [
       "[6, 4]"
      ]
     },
     "execution_count": 118,
     "metadata": {},
     "output_type": "execute_result"
    }
   ],
   "source": [
    "k"
   ]
  },
  {
   "cell_type": "code",
   "execution_count": 119,
   "metadata": {
    "collapsed": true
   },
   "outputs": [],
   "source": [
    "st = ' '.join(str(v) for v in k)"
   ]
  },
  {
   "cell_type": "code",
   "execution_count": 120,
   "metadata": {
    "collapsed": false
   },
   "outputs": [
    {
     "data": {
      "text/plain": [
       "'6 4'"
      ]
     },
     "execution_count": 120,
     "metadata": {},
     "output_type": "execute_result"
    }
   ],
   "source": [
    "st"
   ]
  },
  {
   "cell_type": "code",
   "execution_count": 121,
   "metadata": {
    "collapsed": true
   },
   "outputs": [],
   "source": [
    "file_obj = open('submission-1.txt', 'w')\n",
    "file_obj.write(st)\n",
    "file_obj.close()"
   ]
  },
  {
   "cell_type": "code",
   "execution_count": 115,
   "metadata": {
    "collapsed": false
   },
   "outputs": [
    {
     "name": "stdout",
     "output_type": "stream",
     "text": [
      "6 4\n"
     ]
    }
   ],
   "source": [
    "file_obj = open('submission-1.txt', 'r')\n",
    "print file_obj.read()\n",
    "file_obj.close()"
   ]
  },
  {
   "cell_type": "code",
   "execution_count": null,
   "metadata": {
    "collapsed": true
   },
   "outputs": [],
   "source": []
  }
 ],
 "metadata": {
  "anaconda-cloud": {},
  "kernelspec": {
   "display_name": "Python [Root]",
   "language": "python",
   "name": "Python [Root]"
  },
  "language_info": {
   "codemirror_mode": {
    "name": "ipython",
    "version": 2
   },
   "file_extension": ".py",
   "mimetype": "text/x-python",
   "name": "python",
   "nbconvert_exporter": "python",
   "pygments_lexer": "ipython2",
   "version": "2.7.12"
  }
 },
 "nbformat": 4,
 "nbformat_minor": 0
}
