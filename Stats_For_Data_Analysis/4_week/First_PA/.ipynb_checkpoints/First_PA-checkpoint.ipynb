{
 "cells": [
  {
   "cell_type": "code",
   "execution_count": 80,
   "metadata": {
    "collapsed": true
   },
   "outputs": [],
   "source": [
    "import numpy as np\n",
    "import pandas as pd\n",
    "import statsmodels as sm\n",
    "import scipy\n",
    "from statsmodels.sandbox.stats.multicomp import multipletests"
   ]
  },
  {
   "cell_type": "code",
   "execution_count": 72,
   "metadata": {
    "collapsed": true
   },
   "outputs": [],
   "source": [
    "def write_answer_to_file(answer, filename):\n",
    "    with open(filename, 'w') as f_out:\n",
    "        f_out.write(str(answer))"
   ]
  },
  {
   "cell_type": "code",
   "execution_count": 4,
   "metadata": {
    "collapsed": false
   },
   "outputs": [
    {
     "name": "stderr",
     "output_type": "stream",
     "text": [
      "C:\\Users\\yahoo_000\\Anaconda2\\lib\\site-packages\\ipykernel\\__main__.py:1: ParserWarning: Falling back to the 'python' engine because the 'c' engine does not support regex separators (separators > 1 char and different from '\\s+' are interpreted as regex); you can avoid this warning by specifying engine='python'.\n",
      "  if __name__ == '__main__':\n"
     ]
    }
   ],
   "source": [
    "data = pd.read_csv('gene_high_throughput_sequencing.csv', sep=\"\\,\", index_col=False)"
   ]
  },
  {
   "cell_type": "code",
   "execution_count": 24,
   "metadata": {
    "collapsed": true
   },
   "outputs": [
    {
     "data": {
      "text/html": [
       "<div>\n",
       "<table border=\"1\" class=\"dataframe\">\n",
       "  <thead>\n",
       "    <tr style=\"text-align: right;\">\n",
       "      <th></th>\n",
       "      <th>Patient_id</th>\n",
       "      <th>Diagnosis</th>\n",
       "      <th>LOC643837</th>\n",
       "      <th>LOC100130417</th>\n",
       "      <th>SAMD11</th>\n",
       "      <th>NOC2L</th>\n",
       "      <th>KLHL17</th>\n",
       "      <th>PLEKHN1</th>\n",
       "      <th>C1orf170</th>\n",
       "      <th>HES4</th>\n",
       "      <th>...</th>\n",
       "      <th>CLIC2</th>\n",
       "      <th>RPS4Y1</th>\n",
       "      <th>ZFY</th>\n",
       "      <th>PRKY</th>\n",
       "      <th>USP9Y</th>\n",
       "      <th>DDX3Y</th>\n",
       "      <th>CD24</th>\n",
       "      <th>CYorf15B</th>\n",
       "      <th>KDM5D</th>\n",
       "      <th>EIF1AY</th>\n",
       "    </tr>\n",
       "  </thead>\n",
       "  <tbody>\n",
       "    <tr>\n",
       "      <th>0</th>\n",
       "      <td>STT5425_Breast_001_normal</td>\n",
       "      <td>normal</td>\n",
       "      <td>1.257614</td>\n",
       "      <td>2.408148</td>\n",
       "      <td>13.368622</td>\n",
       "      <td>9.494779</td>\n",
       "      <td>20.880435</td>\n",
       "      <td>12.722017</td>\n",
       "      <td>9.494779</td>\n",
       "      <td>54.349694</td>\n",
       "      <td>...</td>\n",
       "      <td>4.761250</td>\n",
       "      <td>1.257614</td>\n",
       "      <td>1.257614</td>\n",
       "      <td>1.257614</td>\n",
       "      <td>1.257614</td>\n",
       "      <td>1.257614</td>\n",
       "      <td>23.268694</td>\n",
       "      <td>1.257614</td>\n",
       "      <td>1.257614</td>\n",
       "      <td>1.257614</td>\n",
       "    </tr>\n",
       "    <tr>\n",
       "      <th>1</th>\n",
       "      <td>STT5427_Breast_023_normal</td>\n",
       "      <td>normal</td>\n",
       "      <td>4.567931</td>\n",
       "      <td>16.602734</td>\n",
       "      <td>42.477752</td>\n",
       "      <td>25.562376</td>\n",
       "      <td>23.221137</td>\n",
       "      <td>11.622386</td>\n",
       "      <td>14.330573</td>\n",
       "      <td>72.445474</td>\n",
       "      <td>...</td>\n",
       "      <td>6.871902</td>\n",
       "      <td>1.815112</td>\n",
       "      <td>1.815112</td>\n",
       "      <td>1.815112</td>\n",
       "      <td>1.815112</td>\n",
       "      <td>1.815112</td>\n",
       "      <td>10.427023</td>\n",
       "      <td>1.815112</td>\n",
       "      <td>1.815112</td>\n",
       "      <td>1.815112</td>\n",
       "    </tr>\n",
       "    <tr>\n",
       "      <th>2</th>\n",
       "      <td>STT5430_Breast_002_normal</td>\n",
       "      <td>normal</td>\n",
       "      <td>2.077597</td>\n",
       "      <td>3.978294</td>\n",
       "      <td>12.863214</td>\n",
       "      <td>13.728915</td>\n",
       "      <td>14.543176</td>\n",
       "      <td>14.141907</td>\n",
       "      <td>6.232790</td>\n",
       "      <td>57.011005</td>\n",
       "      <td>...</td>\n",
       "      <td>7.096343</td>\n",
       "      <td>2.077597</td>\n",
       "      <td>2.077597</td>\n",
       "      <td>2.077597</td>\n",
       "      <td>2.077597</td>\n",
       "      <td>2.077597</td>\n",
       "      <td>22.344226</td>\n",
       "      <td>2.077597</td>\n",
       "      <td>2.077597</td>\n",
       "      <td>2.077597</td>\n",
       "    </tr>\n",
       "    <tr>\n",
       "      <th>3</th>\n",
       "      <td>STT5439_Breast_003_normal</td>\n",
       "      <td>normal</td>\n",
       "      <td>2.066576</td>\n",
       "      <td>8.520713</td>\n",
       "      <td>14.466035</td>\n",
       "      <td>7.823932</td>\n",
       "      <td>8.520713</td>\n",
       "      <td>2.066576</td>\n",
       "      <td>10.870009</td>\n",
       "      <td>53.292034</td>\n",
       "      <td>...</td>\n",
       "      <td>5.200770</td>\n",
       "      <td>2.066576</td>\n",
       "      <td>2.066576</td>\n",
       "      <td>2.066576</td>\n",
       "      <td>2.066576</td>\n",
       "      <td>2.066576</td>\n",
       "      <td>49.295538</td>\n",
       "      <td>2.066576</td>\n",
       "      <td>2.066576</td>\n",
       "      <td>2.066576</td>\n",
       "    </tr>\n",
       "    <tr>\n",
       "      <th>4</th>\n",
       "      <td>STT5441_Breast_004_normal</td>\n",
       "      <td>normal</td>\n",
       "      <td>2.613616</td>\n",
       "      <td>3.434965</td>\n",
       "      <td>12.682222</td>\n",
       "      <td>10.543189</td>\n",
       "      <td>26.688686</td>\n",
       "      <td>12.484822</td>\n",
       "      <td>1.364917</td>\n",
       "      <td>67.140393</td>\n",
       "      <td>...</td>\n",
       "      <td>11.227770</td>\n",
       "      <td>1.364917</td>\n",
       "      <td>1.364917</td>\n",
       "      <td>1.364917</td>\n",
       "      <td>1.364917</td>\n",
       "      <td>1.364917</td>\n",
       "      <td>23.627911</td>\n",
       "      <td>1.364917</td>\n",
       "      <td>1.364917</td>\n",
       "      <td>1.364917</td>\n",
       "    </tr>\n",
       "  </tbody>\n",
       "</table>\n",
       "<p>5 rows × 15750 columns</p>\n",
       "</div>"
      ],
      "text/plain": [
       "                  Patient_id Diagnosis  LOC643837  LOC100130417     SAMD11  \\\n",
       "0  STT5425_Breast_001_normal    normal   1.257614      2.408148  13.368622   \n",
       "1  STT5427_Breast_023_normal    normal   4.567931     16.602734  42.477752   \n",
       "2  STT5430_Breast_002_normal    normal   2.077597      3.978294  12.863214   \n",
       "3  STT5439_Breast_003_normal    normal   2.066576      8.520713  14.466035   \n",
       "4  STT5441_Breast_004_normal    normal   2.613616      3.434965  12.682222   \n",
       "\n",
       "       NOC2L     KLHL17    PLEKHN1   C1orf170       HES4    ...         CLIC2  \\\n",
       "0   9.494779  20.880435  12.722017   9.494779  54.349694    ...      4.761250   \n",
       "1  25.562376  23.221137  11.622386  14.330573  72.445474    ...      6.871902   \n",
       "2  13.728915  14.543176  14.141907   6.232790  57.011005    ...      7.096343   \n",
       "3   7.823932   8.520713   2.066576  10.870009  53.292034    ...      5.200770   \n",
       "4  10.543189  26.688686  12.484822   1.364917  67.140393    ...     11.227770   \n",
       "\n",
       "     RPS4Y1       ZFY      PRKY     USP9Y     DDX3Y       CD24  CYorf15B  \\\n",
       "0  1.257614  1.257614  1.257614  1.257614  1.257614  23.268694  1.257614   \n",
       "1  1.815112  1.815112  1.815112  1.815112  1.815112  10.427023  1.815112   \n",
       "2  2.077597  2.077597  2.077597  2.077597  2.077597  22.344226  2.077597   \n",
       "3  2.066576  2.066576  2.066576  2.066576  2.066576  49.295538  2.066576   \n",
       "4  1.364917  1.364917  1.364917  1.364917  1.364917  23.627911  1.364917   \n",
       "\n",
       "      KDM5D    EIF1AY  \n",
       "0  1.257614  1.257614  \n",
       "1  1.815112  1.815112  \n",
       "2  2.077597  2.077597  \n",
       "3  2.066576  2.066576  \n",
       "4  1.364917  1.364917  \n",
       "\n",
       "[5 rows x 15750 columns]"
      ]
     },
     "execution_count": 24,
     "metadata": {},
     "output_type": "execute_result"
    }
   ],
   "source": [
    "data.head()"
   ]
  },
  {
   "cell_type": "code",
   "execution_count": 20,
   "metadata": {
    "collapsed": false
   },
   "outputs": [],
   "source": [
    "normal = data[data.Diagnosis == 'normal']\n",
    "neoplasia = data[data.Diagnosis == 'early neoplasia']\n",
    "cancer = data[data.Diagnosis == 'cancer']"
   ]
  },
  {
   "cell_type": "code",
   "execution_count": 40,
   "metadata": {
    "collapsed": true
   },
   "outputs": [
    {
     "data": {
      "text/html": [
       "<div>\n",
       "<table border=\"1\" class=\"dataframe\">\n",
       "  <thead>\n",
       "    <tr style=\"text-align: right;\">\n",
       "      <th></th>\n",
       "      <th>Patient_id</th>\n",
       "      <th>Diagnosis</th>\n",
       "      <th>LOC643837</th>\n",
       "      <th>LOC100130417</th>\n",
       "      <th>SAMD11</th>\n",
       "      <th>NOC2L</th>\n",
       "      <th>KLHL17</th>\n",
       "      <th>PLEKHN1</th>\n",
       "      <th>C1orf170</th>\n",
       "      <th>HES4</th>\n",
       "      <th>...</th>\n",
       "      <th>CLIC2</th>\n",
       "      <th>RPS4Y1</th>\n",
       "      <th>ZFY</th>\n",
       "      <th>PRKY</th>\n",
       "      <th>USP9Y</th>\n",
       "      <th>DDX3Y</th>\n",
       "      <th>CD24</th>\n",
       "      <th>CYorf15B</th>\n",
       "      <th>KDM5D</th>\n",
       "      <th>EIF1AY</th>\n",
       "    </tr>\n",
       "  </thead>\n",
       "  <tbody>\n",
       "    <tr>\n",
       "      <th>0</th>\n",
       "      <td>STT5425_Breast_001_normal</td>\n",
       "      <td>normal</td>\n",
       "      <td>1.257614</td>\n",
       "      <td>2.408148</td>\n",
       "      <td>13.368622</td>\n",
       "      <td>9.494779</td>\n",
       "      <td>20.880435</td>\n",
       "      <td>12.722017</td>\n",
       "      <td>9.494779</td>\n",
       "      <td>54.349694</td>\n",
       "      <td>...</td>\n",
       "      <td>4.761250</td>\n",
       "      <td>1.257614</td>\n",
       "      <td>1.257614</td>\n",
       "      <td>1.257614</td>\n",
       "      <td>1.257614</td>\n",
       "      <td>1.257614</td>\n",
       "      <td>23.268694</td>\n",
       "      <td>1.257614</td>\n",
       "      <td>1.257614</td>\n",
       "      <td>1.257614</td>\n",
       "    </tr>\n",
       "    <tr>\n",
       "      <th>1</th>\n",
       "      <td>STT5427_Breast_023_normal</td>\n",
       "      <td>normal</td>\n",
       "      <td>4.567931</td>\n",
       "      <td>16.602734</td>\n",
       "      <td>42.477752</td>\n",
       "      <td>25.562376</td>\n",
       "      <td>23.221137</td>\n",
       "      <td>11.622386</td>\n",
       "      <td>14.330573</td>\n",
       "      <td>72.445474</td>\n",
       "      <td>...</td>\n",
       "      <td>6.871902</td>\n",
       "      <td>1.815112</td>\n",
       "      <td>1.815112</td>\n",
       "      <td>1.815112</td>\n",
       "      <td>1.815112</td>\n",
       "      <td>1.815112</td>\n",
       "      <td>10.427023</td>\n",
       "      <td>1.815112</td>\n",
       "      <td>1.815112</td>\n",
       "      <td>1.815112</td>\n",
       "    </tr>\n",
       "    <tr>\n",
       "      <th>2</th>\n",
       "      <td>STT5430_Breast_002_normal</td>\n",
       "      <td>normal</td>\n",
       "      <td>2.077597</td>\n",
       "      <td>3.978294</td>\n",
       "      <td>12.863214</td>\n",
       "      <td>13.728915</td>\n",
       "      <td>14.543176</td>\n",
       "      <td>14.141907</td>\n",
       "      <td>6.232790</td>\n",
       "      <td>57.011005</td>\n",
       "      <td>...</td>\n",
       "      <td>7.096343</td>\n",
       "      <td>2.077597</td>\n",
       "      <td>2.077597</td>\n",
       "      <td>2.077597</td>\n",
       "      <td>2.077597</td>\n",
       "      <td>2.077597</td>\n",
       "      <td>22.344226</td>\n",
       "      <td>2.077597</td>\n",
       "      <td>2.077597</td>\n",
       "      <td>2.077597</td>\n",
       "    </tr>\n",
       "    <tr>\n",
       "      <th>3</th>\n",
       "      <td>STT5439_Breast_003_normal</td>\n",
       "      <td>normal</td>\n",
       "      <td>2.066576</td>\n",
       "      <td>8.520713</td>\n",
       "      <td>14.466035</td>\n",
       "      <td>7.823932</td>\n",
       "      <td>8.520713</td>\n",
       "      <td>2.066576</td>\n",
       "      <td>10.870009</td>\n",
       "      <td>53.292034</td>\n",
       "      <td>...</td>\n",
       "      <td>5.200770</td>\n",
       "      <td>2.066576</td>\n",
       "      <td>2.066576</td>\n",
       "      <td>2.066576</td>\n",
       "      <td>2.066576</td>\n",
       "      <td>2.066576</td>\n",
       "      <td>49.295538</td>\n",
       "      <td>2.066576</td>\n",
       "      <td>2.066576</td>\n",
       "      <td>2.066576</td>\n",
       "    </tr>\n",
       "    <tr>\n",
       "      <th>4</th>\n",
       "      <td>STT5441_Breast_004_normal</td>\n",
       "      <td>normal</td>\n",
       "      <td>2.613616</td>\n",
       "      <td>3.434965</td>\n",
       "      <td>12.682222</td>\n",
       "      <td>10.543189</td>\n",
       "      <td>26.688686</td>\n",
       "      <td>12.484822</td>\n",
       "      <td>1.364917</td>\n",
       "      <td>67.140393</td>\n",
       "      <td>...</td>\n",
       "      <td>11.227770</td>\n",
       "      <td>1.364917</td>\n",
       "      <td>1.364917</td>\n",
       "      <td>1.364917</td>\n",
       "      <td>1.364917</td>\n",
       "      <td>1.364917</td>\n",
       "      <td>23.627911</td>\n",
       "      <td>1.364917</td>\n",
       "      <td>1.364917</td>\n",
       "      <td>1.364917</td>\n",
       "    </tr>\n",
       "  </tbody>\n",
       "</table>\n",
       "<p>5 rows × 15750 columns</p>\n",
       "</div>"
      ],
      "text/plain": [
       "                  Patient_id Diagnosis  LOC643837  LOC100130417     SAMD11  \\\n",
       "0  STT5425_Breast_001_normal    normal   1.257614      2.408148  13.368622   \n",
       "1  STT5427_Breast_023_normal    normal   4.567931     16.602734  42.477752   \n",
       "2  STT5430_Breast_002_normal    normal   2.077597      3.978294  12.863214   \n",
       "3  STT5439_Breast_003_normal    normal   2.066576      8.520713  14.466035   \n",
       "4  STT5441_Breast_004_normal    normal   2.613616      3.434965  12.682222   \n",
       "\n",
       "       NOC2L     KLHL17    PLEKHN1   C1orf170       HES4    ...         CLIC2  \\\n",
       "0   9.494779  20.880435  12.722017   9.494779  54.349694    ...      4.761250   \n",
       "1  25.562376  23.221137  11.622386  14.330573  72.445474    ...      6.871902   \n",
       "2  13.728915  14.543176  14.141907   6.232790  57.011005    ...      7.096343   \n",
       "3   7.823932   8.520713   2.066576  10.870009  53.292034    ...      5.200770   \n",
       "4  10.543189  26.688686  12.484822   1.364917  67.140393    ...     11.227770   \n",
       "\n",
       "     RPS4Y1       ZFY      PRKY     USP9Y     DDX3Y       CD24  CYorf15B  \\\n",
       "0  1.257614  1.257614  1.257614  1.257614  1.257614  23.268694  1.257614   \n",
       "1  1.815112  1.815112  1.815112  1.815112  1.815112  10.427023  1.815112   \n",
       "2  2.077597  2.077597  2.077597  2.077597  2.077597  22.344226  2.077597   \n",
       "3  2.066576  2.066576  2.066576  2.066576  2.066576  49.295538  2.066576   \n",
       "4  1.364917  1.364917  1.364917  1.364917  1.364917  23.627911  1.364917   \n",
       "\n",
       "      KDM5D    EIF1AY  \n",
       "0  1.257614  1.257614  \n",
       "1  1.815112  1.815112  \n",
       "2  2.077597  2.077597  \n",
       "3  2.066576  2.066576  \n",
       "4  1.364917  1.364917  \n",
       "\n",
       "[5 rows x 15750 columns]"
      ]
     },
     "execution_count": 40,
     "metadata": {},
     "output_type": "execute_result"
    }
   ],
   "source": [
    "normal.head()"
   ]
  },
  {
   "cell_type": "code",
   "execution_count": 39,
   "metadata": {
    "collapsed": true
   },
   "outputs": [
    {
     "data": {
      "text/html": [
       "<div>\n",
       "<table border=\"1\" class=\"dataframe\">\n",
       "  <thead>\n",
       "    <tr style=\"text-align: right;\">\n",
       "      <th></th>\n",
       "      <th>Patient_id</th>\n",
       "      <th>Diagnosis</th>\n",
       "      <th>LOC643837</th>\n",
       "      <th>LOC100130417</th>\n",
       "      <th>SAMD11</th>\n",
       "      <th>NOC2L</th>\n",
       "      <th>KLHL17</th>\n",
       "      <th>PLEKHN1</th>\n",
       "      <th>C1orf170</th>\n",
       "      <th>HES4</th>\n",
       "      <th>...</th>\n",
       "      <th>CLIC2</th>\n",
       "      <th>RPS4Y1</th>\n",
       "      <th>ZFY</th>\n",
       "      <th>PRKY</th>\n",
       "      <th>USP9Y</th>\n",
       "      <th>DDX3Y</th>\n",
       "      <th>CD24</th>\n",
       "      <th>CYorf15B</th>\n",
       "      <th>KDM5D</th>\n",
       "      <th>EIF1AY</th>\n",
       "    </tr>\n",
       "  </thead>\n",
       "  <tbody>\n",
       "    <tr>\n",
       "      <th>24</th>\n",
       "      <td>STT5424_Breast_001_EN</td>\n",
       "      <td>early neoplasia</td>\n",
       "      <td>2.516305</td>\n",
       "      <td>11.430887</td>\n",
       "      <td>18.506550</td>\n",
       "      <td>13.969049</td>\n",
       "      <td>20.957007</td>\n",
       "      <td>10.374992</td>\n",
       "      <td>8.414330</td>\n",
       "      <td>68.513944</td>\n",
       "      <td>...</td>\n",
       "      <td>4.488498</td>\n",
       "      <td>1.314098</td>\n",
       "      <td>1.314098</td>\n",
       "      <td>1.314098</td>\n",
       "      <td>3.307073</td>\n",
       "      <td>1.314098</td>\n",
       "      <td>25.059902</td>\n",
       "      <td>1.314098</td>\n",
       "      <td>1.314098</td>\n",
       "      <td>1.314098</td>\n",
       "    </tr>\n",
       "    <tr>\n",
       "      <th>25</th>\n",
       "      <td>STT5431_Breast_002_EN</td>\n",
       "      <td>early neoplasia</td>\n",
       "      <td>1.937270</td>\n",
       "      <td>9.686352</td>\n",
       "      <td>23.541357</td>\n",
       "      <td>15.295034</td>\n",
       "      <td>18.815807</td>\n",
       "      <td>11.128772</td>\n",
       "      <td>9.155183</td>\n",
       "      <td>67.951908</td>\n",
       "      <td>...</td>\n",
       "      <td>3.709591</td>\n",
       "      <td>1.937270</td>\n",
       "      <td>1.937270</td>\n",
       "      <td>1.937270</td>\n",
       "      <td>1.937270</td>\n",
       "      <td>1.937270</td>\n",
       "      <td>26.349727</td>\n",
       "      <td>1.937270</td>\n",
       "      <td>1.937270</td>\n",
       "      <td>1.937270</td>\n",
       "    </tr>\n",
       "    <tr>\n",
       "      <th>26</th>\n",
       "      <td>STT5442_Breast_004_EN</td>\n",
       "      <td>early neoplasia</td>\n",
       "      <td>1.405858</td>\n",
       "      <td>15.119783</td>\n",
       "      <td>17.985461</td>\n",
       "      <td>17.237294</td>\n",
       "      <td>21.824785</td>\n",
       "      <td>4.801919</td>\n",
       "      <td>5.796501</td>\n",
       "      <td>67.064975</td>\n",
       "      <td>...</td>\n",
       "      <td>7.029290</td>\n",
       "      <td>1.405858</td>\n",
       "      <td>1.405858</td>\n",
       "      <td>1.405858</td>\n",
       "      <td>1.405858</td>\n",
       "      <td>1.405858</td>\n",
       "      <td>29.254009</td>\n",
       "      <td>1.405858</td>\n",
       "      <td>1.405858</td>\n",
       "      <td>1.405858</td>\n",
       "    </tr>\n",
       "    <tr>\n",
       "      <th>27</th>\n",
       "      <td>STT5445_Breast_005_EN</td>\n",
       "      <td>early neoplasia</td>\n",
       "      <td>2.131757</td>\n",
       "      <td>8.789458</td>\n",
       "      <td>12.731187</td>\n",
       "      <td>6.395270</td>\n",
       "      <td>19.185811</td>\n",
       "      <td>14.922297</td>\n",
       "      <td>4.082003</td>\n",
       "      <td>52.028259</td>\n",
       "      <td>...</td>\n",
       "      <td>9.453726</td>\n",
       "      <td>2.131757</td>\n",
       "      <td>2.131757</td>\n",
       "      <td>2.131757</td>\n",
       "      <td>2.131757</td>\n",
       "      <td>2.131757</td>\n",
       "      <td>23.189490</td>\n",
       "      <td>2.131757</td>\n",
       "      <td>2.131757</td>\n",
       "      <td>2.131757</td>\n",
       "    </tr>\n",
       "    <tr>\n",
       "      <th>28</th>\n",
       "      <td>STT5511_Breast_011_EN</td>\n",
       "      <td>early neoplasia</td>\n",
       "      <td>2.421766</td>\n",
       "      <td>7.830416</td>\n",
       "      <td>18.283935</td>\n",
       "      <td>15.229320</td>\n",
       "      <td>29.234970</td>\n",
       "      <td>15.779540</td>\n",
       "      <td>8.098199</td>\n",
       "      <td>50.224123</td>\n",
       "      <td>...</td>\n",
       "      <td>5.976863</td>\n",
       "      <td>1.264726</td>\n",
       "      <td>1.264726</td>\n",
       "      <td>1.264726</td>\n",
       "      <td>1.264726</td>\n",
       "      <td>1.264726</td>\n",
       "      <td>19.849890</td>\n",
       "      <td>1.264726</td>\n",
       "      <td>1.264726</td>\n",
       "      <td>1.264726</td>\n",
       "    </tr>\n",
       "  </tbody>\n",
       "</table>\n",
       "<p>5 rows × 15750 columns</p>\n",
       "</div>"
      ],
      "text/plain": [
       "               Patient_id        Diagnosis  LOC643837  LOC100130417  \\\n",
       "24  STT5424_Breast_001_EN  early neoplasia   2.516305     11.430887   \n",
       "25  STT5431_Breast_002_EN  early neoplasia   1.937270      9.686352   \n",
       "26  STT5442_Breast_004_EN  early neoplasia   1.405858     15.119783   \n",
       "27  STT5445_Breast_005_EN  early neoplasia   2.131757      8.789458   \n",
       "28  STT5511_Breast_011_EN  early neoplasia   2.421766      7.830416   \n",
       "\n",
       "       SAMD11      NOC2L     KLHL17    PLEKHN1  C1orf170       HES4    ...     \\\n",
       "24  18.506550  13.969049  20.957007  10.374992  8.414330  68.513944    ...      \n",
       "25  23.541357  15.295034  18.815807  11.128772  9.155183  67.951908    ...      \n",
       "26  17.985461  17.237294  21.824785   4.801919  5.796501  67.064975    ...      \n",
       "27  12.731187   6.395270  19.185811  14.922297  4.082003  52.028259    ...      \n",
       "28  18.283935  15.229320  29.234970  15.779540  8.098199  50.224123    ...      \n",
       "\n",
       "       CLIC2    RPS4Y1       ZFY      PRKY     USP9Y     DDX3Y       CD24  \\\n",
       "24  4.488498  1.314098  1.314098  1.314098  3.307073  1.314098  25.059902   \n",
       "25  3.709591  1.937270  1.937270  1.937270  1.937270  1.937270  26.349727   \n",
       "26  7.029290  1.405858  1.405858  1.405858  1.405858  1.405858  29.254009   \n",
       "27  9.453726  2.131757  2.131757  2.131757  2.131757  2.131757  23.189490   \n",
       "28  5.976863  1.264726  1.264726  1.264726  1.264726  1.264726  19.849890   \n",
       "\n",
       "    CYorf15B     KDM5D    EIF1AY  \n",
       "24  1.314098  1.314098  1.314098  \n",
       "25  1.937270  1.937270  1.937270  \n",
       "26  1.405858  1.405858  1.405858  \n",
       "27  2.131757  2.131757  2.131757  \n",
       "28  1.264726  1.264726  1.264726  \n",
       "\n",
       "[5 rows x 15750 columns]"
      ]
     },
     "execution_count": 39,
     "metadata": {},
     "output_type": "execute_result"
    }
   ],
   "source": [
    "neoplasia.head()"
   ]
  },
  {
   "cell_type": "code",
   "execution_count": 41,
   "metadata": {
    "collapsed": true
   },
   "outputs": [
    {
     "data": {
      "text/html": [
       "<div>\n",
       "<table border=\"1\" class=\"dataframe\">\n",
       "  <thead>\n",
       "    <tr style=\"text-align: right;\">\n",
       "      <th></th>\n",
       "      <th>Patient_id</th>\n",
       "      <th>Diagnosis</th>\n",
       "      <th>LOC643837</th>\n",
       "      <th>LOC100130417</th>\n",
       "      <th>SAMD11</th>\n",
       "      <th>NOC2L</th>\n",
       "      <th>KLHL17</th>\n",
       "      <th>PLEKHN1</th>\n",
       "      <th>C1orf170</th>\n",
       "      <th>HES4</th>\n",
       "      <th>...</th>\n",
       "      <th>CLIC2</th>\n",
       "      <th>RPS4Y1</th>\n",
       "      <th>ZFY</th>\n",
       "      <th>PRKY</th>\n",
       "      <th>USP9Y</th>\n",
       "      <th>DDX3Y</th>\n",
       "      <th>CD24</th>\n",
       "      <th>CYorf15B</th>\n",
       "      <th>KDM5D</th>\n",
       "      <th>EIF1AY</th>\n",
       "    </tr>\n",
       "  </thead>\n",
       "  <tbody>\n",
       "    <tr>\n",
       "      <th>49</th>\n",
       "      <td>STT5437_Breast_003_DCIS</td>\n",
       "      <td>cancer</td>\n",
       "      <td>1.618129</td>\n",
       "      <td>4.854387</td>\n",
       "      <td>7.646980</td>\n",
       "      <td>11.631036</td>\n",
       "      <td>19.839961</td>\n",
       "      <td>19.484855</td>\n",
       "      <td>15.492407</td>\n",
       "      <td>78.090449</td>\n",
       "      <td>...</td>\n",
       "      <td>7.175936</td>\n",
       "      <td>1.618129</td>\n",
       "      <td>1.618129</td>\n",
       "      <td>1.618129</td>\n",
       "      <td>1.618129</td>\n",
       "      <td>1.618129</td>\n",
       "      <td>22.008936</td>\n",
       "      <td>1.618129</td>\n",
       "      <td>1.618129</td>\n",
       "      <td>1.618129</td>\n",
       "    </tr>\n",
       "    <tr>\n",
       "      <th>50</th>\n",
       "      <td>STT5450_Breast_006_DCIS</td>\n",
       "      <td>cancer</td>\n",
       "      <td>1.609022</td>\n",
       "      <td>10.632542</td>\n",
       "      <td>28.344988</td>\n",
       "      <td>18.462903</td>\n",
       "      <td>23.702379</td>\n",
       "      <td>13.494061</td>\n",
       "      <td>6.091660</td>\n",
       "      <td>58.775216</td>\n",
       "      <td>...</td>\n",
       "      <td>6.091660</td>\n",
       "      <td>1.609022</td>\n",
       "      <td>1.609022</td>\n",
       "      <td>1.609022</td>\n",
       "      <td>1.609022</td>\n",
       "      <td>1.609022</td>\n",
       "      <td>24.840164</td>\n",
       "      <td>1.609022</td>\n",
       "      <td>1.609022</td>\n",
       "      <td>1.609022</td>\n",
       "    </tr>\n",
       "    <tr>\n",
       "      <th>51</th>\n",
       "      <td>STT5462_Breast_007_DCIS</td>\n",
       "      <td>cancer</td>\n",
       "      <td>1.549953</td>\n",
       "      <td>3.900629</td>\n",
       "      <td>12.496120</td>\n",
       "      <td>10.242207</td>\n",
       "      <td>22.972095</td>\n",
       "      <td>16.860563</td>\n",
       "      <td>7.324792</td>\n",
       "      <td>76.410218</td>\n",
       "      <td>...</td>\n",
       "      <td>6.873594</td>\n",
       "      <td>1.549953</td>\n",
       "      <td>1.549953</td>\n",
       "      <td>1.549953</td>\n",
       "      <td>1.549953</td>\n",
       "      <td>1.549953</td>\n",
       "      <td>18.834745</td>\n",
       "      <td>1.549953</td>\n",
       "      <td>1.549953</td>\n",
       "      <td>1.549953</td>\n",
       "    </tr>\n",
       "    <tr>\n",
       "      <th>52</th>\n",
       "      <td>STT5463_Breast_007_IDC</td>\n",
       "      <td>cancer</td>\n",
       "      <td>1.606786</td>\n",
       "      <td>4.043656</td>\n",
       "      <td>8.849487</td>\n",
       "      <td>15.158388</td>\n",
       "      <td>26.287855</td>\n",
       "      <td>27.441093</td>\n",
       "      <td>8.033929</td>\n",
       "      <td>132.144503</td>\n",
       "      <td>...</td>\n",
       "      <td>1.606786</td>\n",
       "      <td>1.606786</td>\n",
       "      <td>1.606786</td>\n",
       "      <td>1.606786</td>\n",
       "      <td>1.606786</td>\n",
       "      <td>1.606786</td>\n",
       "      <td>21.215253</td>\n",
       "      <td>1.606786</td>\n",
       "      <td>1.606786</td>\n",
       "      <td>1.606786</td>\n",
       "    </tr>\n",
       "    <tr>\n",
       "      <th>53</th>\n",
       "      <td>STT5474_Breast_008_IDC</td>\n",
       "      <td>cancer</td>\n",
       "      <td>2.697819</td>\n",
       "      <td>8.225604</td>\n",
       "      <td>21.299676</td>\n",
       "      <td>14.114099</td>\n",
       "      <td>22.289155</td>\n",
       "      <td>14.341455</td>\n",
       "      <td>5.567752</td>\n",
       "      <td>59.058349</td>\n",
       "      <td>...</td>\n",
       "      <td>7.099892</td>\n",
       "      <td>0.899273</td>\n",
       "      <td>0.899273</td>\n",
       "      <td>0.899273</td>\n",
       "      <td>0.899273</td>\n",
       "      <td>0.899273</td>\n",
       "      <td>20.368088</td>\n",
       "      <td>0.899273</td>\n",
       "      <td>0.899273</td>\n",
       "      <td>0.899273</td>\n",
       "    </tr>\n",
       "  </tbody>\n",
       "</table>\n",
       "<p>5 rows × 15750 columns</p>\n",
       "</div>"
      ],
      "text/plain": [
       "                 Patient_id Diagnosis  LOC643837  LOC100130417     SAMD11  \\\n",
       "49  STT5437_Breast_003_DCIS    cancer   1.618129      4.854387   7.646980   \n",
       "50  STT5450_Breast_006_DCIS    cancer   1.609022     10.632542  28.344988   \n",
       "51  STT5462_Breast_007_DCIS    cancer   1.549953      3.900629  12.496120   \n",
       "52   STT5463_Breast_007_IDC    cancer   1.606786      4.043656   8.849487   \n",
       "53   STT5474_Breast_008_IDC    cancer   2.697819      8.225604  21.299676   \n",
       "\n",
       "        NOC2L     KLHL17    PLEKHN1   C1orf170        HES4    ...     \\\n",
       "49  11.631036  19.839961  19.484855  15.492407   78.090449    ...      \n",
       "50  18.462903  23.702379  13.494061   6.091660   58.775216    ...      \n",
       "51  10.242207  22.972095  16.860563   7.324792   76.410218    ...      \n",
       "52  15.158388  26.287855  27.441093   8.033929  132.144503    ...      \n",
       "53  14.114099  22.289155  14.341455   5.567752   59.058349    ...      \n",
       "\n",
       "       CLIC2    RPS4Y1       ZFY      PRKY     USP9Y     DDX3Y       CD24  \\\n",
       "49  7.175936  1.618129  1.618129  1.618129  1.618129  1.618129  22.008936   \n",
       "50  6.091660  1.609022  1.609022  1.609022  1.609022  1.609022  24.840164   \n",
       "51  6.873594  1.549953  1.549953  1.549953  1.549953  1.549953  18.834745   \n",
       "52  1.606786  1.606786  1.606786  1.606786  1.606786  1.606786  21.215253   \n",
       "53  7.099892  0.899273  0.899273  0.899273  0.899273  0.899273  20.368088   \n",
       "\n",
       "    CYorf15B     KDM5D    EIF1AY  \n",
       "49  1.618129  1.618129  1.618129  \n",
       "50  1.609022  1.609022  1.609022  \n",
       "51  1.549953  1.549953  1.549953  \n",
       "52  1.606786  1.606786  1.606786  \n",
       "53  0.899273  0.899273  0.899273  \n",
       "\n",
       "[5 rows x 15750 columns]"
      ]
     },
     "execution_count": 41,
     "metadata": {},
     "output_type": "execute_result"
    }
   ],
   "source": [
    "cancer.head()"
   ]
  },
  {
   "cell_type": "code",
   "execution_count": 43,
   "metadata": {
    "collapsed": false
   },
   "outputs": [
    {
     "data": {
      "text/plain": [
       "15750"
      ]
     },
     "execution_count": 43,
     "metadata": {},
     "output_type": "execute_result"
    }
   ],
   "source": [
    "cancer.shape[1]"
   ]
  },
  {
   "cell_type": "code",
   "execution_count": 54,
   "metadata": {
    "collapsed": true
   },
   "outputs": [
    {
     "data": {
      "text/plain": [
       "24    2.516305\n",
       "25    1.937270\n",
       "26    1.405858\n",
       "27    2.131757\n",
       "28    2.421766\n",
       "29    4.668232\n",
       "30    3.386331\n",
       "31    1.247440\n",
       "32    1.591747\n",
       "33    0.979074\n",
       "34    4.730638\n",
       "35    0.964837\n",
       "36    0.949252\n",
       "37    1.068210\n",
       "38    1.679849\n",
       "39    0.885375\n",
       "40    4.567425\n",
       "41    3.060481\n",
       "42    2.888731\n",
       "43    1.285190\n",
       "44    5.753165\n",
       "45    3.983593\n",
       "46    4.391919\n",
       "47    1.122588\n",
       "48    3.155315\n",
       "Name: LOC643837, dtype: float64"
      ]
     },
     "execution_count": 54,
     "metadata": {},
     "output_type": "execute_result"
    }
   ],
   "source": [
    "neoplasia.iloc[:,2]"
   ]
  },
  {
   "cell_type": "code",
   "execution_count": 53,
   "metadata": {
    "collapsed": true
   },
   "outputs": [
    {
     "data": {
      "text/plain": [
       "49    1.618129\n",
       "50    1.609022\n",
       "51    1.549953\n",
       "52    1.606786\n",
       "53    2.697819\n",
       "54    1.126738\n",
       "55    3.163299\n",
       "56    1.428276\n",
       "57    2.604658\n",
       "58    3.331313\n",
       "59    1.802589\n",
       "60    0.903290\n",
       "61    5.990041\n",
       "62    1.115085\n",
       "63    3.746660\n",
       "64    1.345676\n",
       "65    0.989392\n",
       "66    1.593890\n",
       "67    1.466240\n",
       "68    2.492410\n",
       "69    3.530477\n",
       "70    3.733734\n",
       "71    0.833898\n",
       "Name: LOC643837, dtype: float64"
      ]
     },
     "execution_count": 53,
     "metadata": {},
     "output_type": "execute_result"
    }
   ],
   "source": [
    "cancer.iloc[:,2]"
   ]
  },
  {
   "cell_type": "code",
   "execution_count": 52,
   "metadata": {
    "collapsed": false
   },
   "outputs": [
    {
     "data": {
      "text/plain": [
       "Ttest_indResult(statistic=0.82484898452400524, pvalue=0.41373531754676973)"
      ]
     },
     "execution_count": 52,
     "metadata": {},
     "output_type": "execute_result"
    }
   ],
   "source": [
    "scipy.stats.ttest_ind(neoplasia.iloc[:,2], cancer.iloc[:,2], equal_var = False)"
   ]
  },
  {
   "cell_type": "code",
   "execution_count": 55,
   "metadata": {
    "collapsed": true
   },
   "outputs": [],
   "source": [
    "norneo = []\n",
    "neocan = []\n",
    "for i in xrange(cancer.shape[1]-2):\n",
    "    norneo.append(scipy.stats.ttest_ind(normal.iloc[:,i+2], neoplasia.iloc[:,i+2], equal_var = False)[1])\n",
    "    neocan.append(scipy.stats.ttest_ind(neoplasia.iloc[:,i+2], cancer.iloc[:,i+2], equal_var = False)[1])"
   ]
  },
  {
   "cell_type": "code",
   "execution_count": 71,
   "metadata": {
    "collapsed": false
   },
   "outputs": [
    {
     "data": {
      "text/plain": [
       "1575"
      ]
     },
     "execution_count": 71,
     "metadata": {},
     "output_type": "execute_result"
    }
   ],
   "source": [
    "z = np.where(np.array(norneo) < 0.05)\n",
    "len(z[0])"
   ]
  },
  {
   "cell_type": "code",
   "execution_count": 70,
   "metadata": {
    "collapsed": false
   },
   "outputs": [
    {
     "data": {
      "text/plain": [
       "3490"
      ]
     },
     "execution_count": 70,
     "metadata": {},
     "output_type": "execute_result"
    }
   ],
   "source": [
    "q = np.where(np.array(neocan) < 0.05)\n",
    "len(q[0])"
   ]
  },
  {
   "cell_type": "code",
   "execution_count": 74,
   "metadata": {
    "collapsed": true
   },
   "outputs": [],
   "source": [
    "answer1 = len(z[0])\n",
    "write_answer_to_file(answer1, '1.txt')\n",
    "answer2 = len(q[0])\n",
    "write_answer_to_file(answer2, '2.txt')"
   ]
  },
  {
   "cell_type": "code",
   "execution_count": 95,
   "metadata": {
    "collapsed": false
   },
   "outputs": [],
   "source": [
    "reject1, p_corrected1, a1, a2 = multipletests(norneo, alpha = 0.025, method = 'holm')\n",
    "reject2, p_corrected2, a1, a2 = multipletests(neocan, alpha = 0.025, method = 'holm')"
   ]
  },
  {
   "cell_type": "code",
   "execution_count": 161,
   "metadata": {
    "collapsed": false
   },
   "outputs": [
    {
     "name": "stdout",
     "output_type": "stream",
     "text": [
      "2\n",
      "79\n"
     ]
    }
   ],
   "source": [
    "q = np.where(np.array(reject1) == True)\n",
    "print len(q[0])\n",
    "z = np.where(np.array(reject2) == True)\n",
    "print len(z[0])"
   ]
  },
  {
   "cell_type": "code",
   "execution_count": 164,
   "metadata": {
    "collapsed": false
   },
   "outputs": [],
   "source": [
    "norneo_fc = []\n",
    "for i in q[0]:\n",
    "    C = np.mean(normal.iloc[:,i+2])\n",
    "    T = np.mean(neoplasia.iloc[:,i+2])\n",
    "    if T > C:\n",
    "        norneo_fc.append(T / C)\n",
    "    else:\n",
    "        norneo_fc.append(C / T)\n",
    "\n",
    "neocan_fc = []\n",
    "for i in z[0]:\n",
    "    C = np.mean(neoplasia.iloc[:,i+2])\n",
    "    T = np.mean(cancer.iloc[:,i+2])\n",
    "    if T > C:\n",
    "        neocan_fc.append(T / C)\n",
    "    else:\n",
    "        neocan_fc.append(C / T)"
   ]
  },
  {
   "cell_type": "code",
   "execution_count": 165,
   "metadata": {
    "collapsed": false
   },
   "outputs": [
    {
     "name": "stdout",
     "output_type": "stream",
     "text": [
      "2\n",
      "77\n"
     ]
    }
   ],
   "source": [
    "answer1 = np.where(np.array(norneo_fc) > 1.5)\n",
    "print len(answer1[0])\n",
    "answer2 = np.where(np.array(neocan_fc) > 1.5)\n",
    "print len(answer2[0])"
   ]
  },
  {
   "cell_type": "code",
   "execution_count": 166,
   "metadata": {
    "collapsed": true
   },
   "outputs": [],
   "source": [
    "answer1 = len(answer1[0])\n",
    "write_answer_to_file(answer1, '3.txt')\n",
    "answer2 = len(answer2[0])\n",
    "write_answer_to_file(answer2, '4.txt')"
   ]
  },
  {
   "cell_type": "code",
   "execution_count": 167,
   "metadata": {
    "collapsed": true
   },
   "outputs": [],
   "source": [
    "reject1, p_corrected1, a1, a2 = multipletests(norneo, alpha = 0.025, method = 'fdr_bh')\n",
    "reject2, p_corrected2, a1, a2 = multipletests(neocan, alpha = 0.025, method = 'fdr_bh')"
   ]
  },
  {
   "cell_type": "code",
   "execution_count": 168,
   "metadata": {
    "collapsed": false
   },
   "outputs": [
    {
     "name": "stdout",
     "output_type": "stream",
     "text": [
      "4\n",
      "832\n"
     ]
    }
   ],
   "source": [
    "q = np.where(np.array(reject1) == True)\n",
    "print len(q[0])\n",
    "z = np.where(np.array(reject2) == True)\n",
    "print len(z[0])"
   ]
  },
  {
   "cell_type": "code",
   "execution_count": 169,
   "metadata": {
    "collapsed": true
   },
   "outputs": [],
   "source": [
    "norneo_fc = []\n",
    "for i in q[0]:\n",
    "    C = np.mean(normal.iloc[:,i+2])\n",
    "    T = np.mean(neoplasia.iloc[:,i+2])\n",
    "    if T > C:\n",
    "        norneo_fc.append(T / C)\n",
    "    else:\n",
    "        norneo_fc.append(C / T)\n",
    "\n",
    "neocan_fc = []\n",
    "for i in z[0]:\n",
    "    C = np.mean(neoplasia.iloc[:,i+2])\n",
    "    T = np.mean(cancer.iloc[:,i+2])\n",
    "    if T > C:\n",
    "        neocan_fc.append(T / C)\n",
    "    else:\n",
    "        neocan_fc.append(C / T)"
   ]
  },
  {
   "cell_type": "code",
   "execution_count": 170,
   "metadata": {
    "collapsed": false
   },
   "outputs": [
    {
     "name": "stdout",
     "output_type": "stream",
     "text": [
      "4\n",
      "524\n"
     ]
    }
   ],
   "source": [
    "answer1 = np.where(np.array(norneo_fc) > 1.5)\n",
    "print len(answer1[0])\n",
    "answer2 = np.where(np.array(neocan_fc) > 1.5)\n",
    "print len(answer2[0])"
   ]
  },
  {
   "cell_type": "code",
   "execution_count": 171,
   "metadata": {
    "collapsed": true
   },
   "outputs": [],
   "source": [
    "answer1 = len(answer1[0])\n",
    "write_answer_to_file(answer1, '5.txt')\n",
    "answer2 = len(answer2[0])\n",
    "write_answer_to_file(answer2, '6.txt')"
   ]
  },
  {
   "cell_type": "code",
   "execution_count": null,
   "metadata": {
    "collapsed": true
   },
   "outputs": [],
   "source": []
  }
 ],
 "metadata": {
  "kernelspec": {
   "display_name": "Python [Root]",
   "language": "python",
   "name": "Python [Root]"
  },
  "language_info": {
   "codemirror_mode": {
    "name": "ipython",
    "version": 2
   },
   "file_extension": ".py",
   "mimetype": "text/x-python",
   "name": "python",
   "nbconvert_exporter": "python",
   "pygments_lexer": "ipython2",
   "version": "2.7.12"
  }
 },
 "nbformat": 4,
 "nbformat_minor": 0
}
